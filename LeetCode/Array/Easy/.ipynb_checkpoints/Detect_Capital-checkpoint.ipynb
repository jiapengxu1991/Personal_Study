{
 "cells": [
  {
   "cell_type": "markdown",
   "id": "657bcc26",
   "metadata": {},
   "source": [
    "# Detect Capital\n",
    "We define the usage of capitals in a word to be right when one of the following cases holds:\n",
    "\n",
    "All letters in this word are capitals, like \"USA\".\n",
    "All letters in this word are not capitals, like \"leetcode\".\n",
    "Only the first letter in this word is capital, like \"Google\".\n",
    "Given a string word, return true if the usage of capitals in it is right.\n",
    "\n",
    " \n",
    "\n",
    "Example 1:\n",
    "\n",
    "Input: word = \"USA\"\n",
    "Output: true\n",
    "Example 2:\n",
    "\n",
    "Input: word = \"FlaG\"\n",
    "Output: false\n",
    " \n",
    "\n",
    "Constraints:\n",
    "\n",
    "1 <= word.length <= 100\n",
    "word consists of lowercase and uppercase English letters."
   ]
  },
  {
   "cell_type": "code",
   "execution_count": null,
   "id": "b196243e",
   "metadata": {},
   "outputs": [],
   "source": [
    "import re\n",
    "class Solution:\n",
    "    def detectCapitalUse(self, word: str) -> bool:\n",
    "        match = True\n",
    "        if re.fullmatch(r'^[A-Z]*|[A-Z]?[a-z]*', word) == None:\n",
    "            match = False\n",
    "        return match\n",
    "    # another solution\n",
    "    def detectCapitalUse2(self, word: str) -> bool:\n",
    "        return word in [ word.upper(), word.lower(), word.capitalize()]"
   ]
  },
  {
   "cell_type": "code",
   "execution_count": null,
   "id": "a1a5fc36",
   "metadata": {},
   "outputs": [],
   "source": [
    "# testing the fuction\n",
    "test = Solution()\n",
    "print(test.detectCapitalUse('aAb'))\n",
    "print(test.detectCapitalUse('AAb'))\n",
    "print(test.detectCapitalUse('Abb'))\n",
    "print(test.detectCapitalUse('A'))\n",
    "print(test.detectCapitalUse('AbA'))\n",
    "print(test.detectCapitalUse('bbb'))\n",
    "\n",
    "# test the second fucntion\n",
    "print('\\n')\n",
    "print(test.detectCapitalUse2('aAb'))\n",
    "print(test.detectCapitalUse2('AAb'))\n",
    "print(test.detectCapitalUse2('Abb'))\n",
    "print(test.detectCapitalUse2('A'))\n",
    "print(test.detectCapitalUse2('AbA'))\n",
    "print(test.detectCapitalUse2('bbb'))"
   ]
  }
 ],
 "metadata": {
  "kernelspec": {
   "display_name": "Python 3 (ipykernel)",
   "language": "python",
   "name": "python3"
  },
  "language_info": {
   "codemirror_mode": {
    "name": "ipython",
    "version": 3
   },
   "file_extension": ".py",
   "mimetype": "text/x-python",
   "name": "python",
   "nbconvert_exporter": "python",
   "pygments_lexer": "ipython3",
   "version": "3.8.10"
  }
 },
 "nbformat": 4,
 "nbformat_minor": 5
}
